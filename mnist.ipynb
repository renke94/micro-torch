{
 "cells": [
  {
   "cell_type": "markdown",
   "id": "0042bc94-c6bc-487e-8ff3-5f4f07e1040d",
   "metadata": {},
   "source": [
    "# MNIST Classification"
   ]
  },
  {
   "cell_type": "code",
   "execution_count": 1,
   "id": "6b41de0f-1406-4f4b-a92f-916e039c215d",
   "metadata": {},
   "outputs": [],
   "source": [
    "import sys\n",
    "from microtorch import nn, Tensor\n",
    "from microtorch.optim import Adam, Optimizer\n",
    "from microtorch.losses import CrossEntropyLoss\n",
    "from microtorch.utils.trainer import Trainer\n",
    "from microtorch.utils.loss_dict import LossDict\n",
    "from microtorch.data.data import default_collate_fn, Dataset, DataLoader\n",
    "\n",
    "import numpy as np\n",
    "import matplotlib.pyplot as plt\n",
    "import torch\n",
    "from torchvision.datasets.mnist import MNIST\n",
    "\n",
    "\n",
    "from pathlib import Path"
   ]
  },
  {
   "cell_type": "markdown",
   "id": "ff61e1b1-9d50-4755-b345-2596885209a6",
   "metadata": {},
   "source": [
    "## Dataset and DataLoader"
   ]
  },
  {
   "cell_type": "code",
   "execution_count": 2,
   "id": "8729f481-bf29-4417-9de7-6cda89b61670",
   "metadata": {},
   "outputs": [],
   "source": [
    "mnist = MNIST(root='./data', train=True, download=True, transform=None)"
   ]
  },
  {
   "cell_type": "code",
   "execution_count": 3,
   "id": "0174fba1-d196-41d2-aad0-7cff93ce4187",
   "metadata": {},
   "outputs": [],
   "source": [
    "X_train = mnist.data.float().numpy() / 255\n",
    "y_train = mnist.targets.numpy()"
   ]
  },
  {
   "cell_type": "markdown",
   "id": "29f635aa-6e25-4773-824e-b6e538d6858c",
   "metadata": {},
   "source": [
    "In the next step we define a PyTorch-like Dataset that inherits from the `microtorch` Dataset base class."
   ]
  },
  {
   "cell_type": "code",
   "execution_count": 4,
   "id": "4c12ace4-d54e-4b65-a97b-9175c68403b1",
   "metadata": {},
   "outputs": [],
   "source": [
    "class MNISTDataset(Dataset):\n",
    "    def __init__(self, X, y):\n",
    "        self.X = X\n",
    "        self.y = y\n",
    "        \n",
    "    def __len__(self):\n",
    "        return len(self.X)\n",
    "\n",
    "    def __getitem__(self, idx):\n",
    "        return Tensor(self.X[idx]), Tensor(self.y[idx])"
   ]
  },
  {
   "cell_type": "code",
   "execution_count": 5,
   "id": "a59e1605-9dbb-43a9-8326-a320227e8db8",
   "metadata": {},
   "outputs": [],
   "source": [
    "ds = MNISTDataset(X_train, y_train)"
   ]
  },
  {
   "cell_type": "code",
   "execution_count": 6,
   "id": "725001ba-364d-410d-b357-bc09a6392c3c",
   "metadata": {},
   "outputs": [
    {
     "data": {
      "image/png": "[encoded data removed]",
      "text/plain": [
       "<Figure size 640x480 with 7 Axes>"
      ]
     },
     "metadata": {},
     "output_type": "display_data"
    }
   ],
   "source": [
    "for i in range(7):\n",
    "    X, y = ds[i]\n",
    "    plt.subplot(1, 7, i+1)\n",
    "    plt.imshow(X.data)\n",
    "    plt.title(y.data)\n",
    "    plt.axis('off')\n",
    "\n",
    "plt.tight_layout()"
   ]
  },
  {
   "cell_type": "markdown",
   "id": "aee7db38-4df3-45a6-a3f9-5e7f8c6d26f0",
   "metadata": {},
   "source": [
    "Since we need to pass the data to the neural network in a batched format, we wrap our dataset with a DataLoader, \n",
    "which is responible to shuffle the data and prepare it to batched Tensors: "
   ]
  },
  {
   "cell_type": "code",
   "execution_count": 7,
   "id": "06f91566-3277-4384-b8b0-f559e3e1fdff",
   "metadata": {},
   "outputs": [],
   "source": [
    "dl = DataLoader(ds, batch_size=128, shuffle=True)"
   ]
  },
  {
   "cell_type": "code",
   "execution_count": 8,
   "id": "1d683825-6ff9-4c7d-832a-d1526bff5e54",
   "metadata": {},
   "outputs": [
    {
     "name": "stdout",
     "output_type": "stream",
     "text": [
      "(128, 28, 28) (128,)\n"
     ]
    }
   ],
   "source": [
    "x, y = next(iter(dl))\n",
    "print(x.shape, y.shape)"
   ]
  },
  {
   "cell_type": "markdown",
   "id": "3c258b71-685a-4c52-9dfa-cd1be5775d69",
   "metadata": {},
   "source": [
    "## Model\n",
    "\n",
    "In this step, we create our model. This can be done by using the same API as in PyTorch."
   ]
  },
  {
   "cell_type": "code",
   "execution_count": 9,
   "id": "30ad5b15-89ab-4241-8269-ad947b61cf38",
   "metadata": {},
   "outputs": [],
   "source": [
    "model = nn.Sequential(\n",
    "    nn.Flatten(),\n",
    "    nn.Linear(28**2, 512),\n",
    "    nn.LeakyReLU(),\n",
    "    nn.Linear(512, 256),\n",
    "    nn.LeakyReLU(),\n",
    "    nn.Linear(256, 64),\n",
    "    nn.LeakyReLU(),\n",
    "    nn.Linear(64, 10)\n",
    ")"
   ]
  },
  {
   "cell_type": "markdown",
   "id": "3bba7290-526b-4825-8af4-4869d34dce70",
   "metadata": {},
   "source": [
    "## Training"
   ]
  },
  {
   "cell_type": "markdown",
   "id": "e929809e-baa1-497a-9a47-30daebe7a2a0",
   "metadata": {},
   "source": [
    "In the next step, we create a Trainer object, that provides an API, which abstracts some of the optimization code.\n",
    "Thus, we only need to define the functionality for one training step.\n",
    "\n",
    "During training, we are also interested in the accuracy metric, which we define in the following.\n",
    "\n",
    "After defining the aforementioned classes, we instantiate a MNISTTrainer object by passing the model to be trained,\n",
    "the CrossEntropyLoss as training objective, Adam as an optimizer, and at least the Accuracy metric."
   ]
  },
  {
   "cell_type": "code",
   "execution_count": 10,
   "id": "2f69a51e-6a50-4624-a122-1e6661dcd7e3",
   "metadata": {},
   "outputs": [],
   "source": [
    "class MNISTTrainer(Trainer):\n",
    "    def train_step(self, batch) -> LossDict:\n",
    "        X, y = batch\n",
    "        pred = self.model(X)\n",
    "        loss = self.criterion(pred, y)\n",
    "        loss.backward()\n",
    "        self.optimizer.step()\n",
    "        self.optimizer.zero_grad()\n",
    "        return LossDict(loss=loss.data, **self.compute_metrics(pred, y))\n",
    "\n",
    "class Accuracy(nn.Module):\n",
    "    def __call__(self, logits: Tensor, targets: Tensor) -> Tensor:\n",
    "        return Tensor(np.mean(logits.data.argmax(axis=-1) == targets.data))\n",
    "\n",
    "trainer = MNISTTrainer(\n",
    "    model=model,\n",
    "    criterion=CrossEntropyLoss(),\n",
    "    optimizer=Adam(model.params(), lr=0.001),\n",
    "    metrics={\n",
    "        'accuracy': Accuracy()\n",
    "    }\n",
    ")"
   ]
  },
  {
   "cell_type": "markdown",
   "id": "507bf123-0fe3-42e2-b39b-e50e90e70a98",
   "metadata": {},
   "source": [
    "Let's see if everything works. In the following, we train our model for one epoch."
   ]
  },
  {
   "cell_type": "code",
   "execution_count": 11,
   "id": "949f01d5-7b4c-4b5a-9f6e-8b06b7c61b43",
   "metadata": {},
   "outputs": [
    {
     "name": "stdout",
     "output_type": "stream",
     "text": [
      "Epoch 1: 469it [00:18, 25.65it/s, accuracy=0.9282, loss=0.2389]                 \n"
     ]
    }
   ],
   "source": [
    "trainer.fit(epochs=1, dataloader=dl)"
   ]
  },
  {
   "cell_type": "markdown",
   "id": "92fc8393-d013-452a-a1b9-cc9b8397ceea",
   "metadata": {},
   "source": [
    "## Test\n",
    "\n",
    "During training our model reached an average accuracy of up to 93%.\n",
    "\n",
    "In this example, we will make some test predictions on the training dataset:"
   ]
  },
  {
   "cell_type": "code",
   "execution_count": 14,
   "id": "c93fa960-15f7-4a06-8a45-31dc70f8c9c6",
   "metadata": {},
   "outputs": [],
   "source": [
    "X, y = next(iter(dl))\n",
    "pred = model(X).data.argmax(axis=-1)"
   ]
  },
  {
   "cell_type": "code",
   "execution_count": 15,
   "id": "cd9fd974-fa49-4a26-b995-187b62a8d960",
   "metadata": {},
   "outputs": [
    {
     "data": {
      "image/png": "[encoded data removed]",
      "text/plain": [
       "<Figure size 640x480 with 7 Axes>"
      ]
     },
     "metadata": {},
     "output_type": "display_data"
    }
   ],
   "source": [
    "for i in range(7):\n",
    "    plt.subplot(1, 7, i+1)\n",
    "    plt.imshow(X[i].data)\n",
    "    plt.title(pred[i])\n",
    "    plt.axis('off')\n",
    "\n",
    "plt.tight_layout()"
   ]
  },
  {
   "cell_type": "code",
   "execution_count": null,
   "id": "5186a585-90b7-4924-aa7f-54b00544e1a3",
   "metadata": {},
   "outputs": [],
   "source": []
  }
 ],
 "metadata": {
  "kernelspec": {
   "display_name": "Python 3 (ipykernel)",
   "language": "python",
   "name": "python3"
  },
  "language_info": {
   "codemirror_mode": {
    "name": "ipython",
    "version": 3
   },
   "file_extension": ".py",
   "mimetype": "text/x-python",
   "name": "python",
   "nbconvert_exporter": "python",
   "pygments_lexer": "ipython3",
   "version": "3.11.9"
  }
 },
 "nbformat": 4,
 "nbformat_minor": 5
}
