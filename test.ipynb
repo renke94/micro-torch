{
 "cells": [
  {
   "cell_type": "code",
   "id": "af70ed79",
   "metadata": {
    "ExecuteTime": {
     "end_time": "2024-07-16T10:04:56.458810Z",
     "start_time": "2024-07-16T10:04:56.449768Z"
    }
   },
   "source": [
    "import numpy as np\n",
    "from microtorch import Tensor\n",
    "from microtorch import nn"
   ],
   "outputs": [],
   "execution_count": 1
  },
  {
   "cell_type": "markdown",
   "id": "99d85b97",
   "metadata": {},
   "source": [
    "# XOR"
   ]
  },
  {
   "cell_type": "code",
   "id": "fd9ea6e5",
   "metadata": {
    "ExecuteTime": {
     "end_time": "2024-07-16T10:04:56.461432Z",
     "start_time": "2024-07-16T10:04:56.459703Z"
    }
   },
   "source": [
    "x = Tensor([\n",
    "    [0.0, 0.0],\n",
    "    [1.0, 0.0],\n",
    "    [0.0, 1.0],\n",
    "    [1.0, 1.0]\n",
    "])\n",
    "\n",
    "y = Tensor([\n",
    "    [0.0],\n",
    "    [1.0],\n",
    "    [1.0],\n",
    "    [0.0],\n",
    "])"
   ],
   "outputs": [],
   "execution_count": 2
  },
  {
   "cell_type": "code",
   "id": "562ee2a9",
   "metadata": {
    "ExecuteTime": {
     "end_time": "2024-07-16T10:12:32.858884Z",
     "start_time": "2024-07-16T10:12:32.855251Z"
    }
   },
   "source": [
    "np.random.seed(42)\n",
    "model = nn.Sequential(\n",
    "    nn.Linear(2, 16),\n",
    "    nn.LeakyReLU(0.01),\n",
    "    nn.Linear(16, 16),\n",
    "    nn.LeakyReLU(0.01),\n",
    "    nn.Linear(16, 1),\n",
    "    nn.Sigmoid()\n",
    ")"
   ],
   "outputs": [],
   "execution_count": 27
  },
  {
   "cell_type": "code",
   "id": "cce934df",
   "metadata": {
    "ExecuteTime": {
     "end_time": "2024-07-16T10:12:32.999216Z",
     "start_time": "2024-07-16T10:12:32.996020Z"
    }
   },
   "source": [
    "def optimize(params, lr=0.001):\n",
    "    for p in params:\n",
    "        p.data -= lr * p.grad\n",
    "        \n",
    "def zero_grad(*params):\n",
    "    for p in params:\n",
    "        p.zero_grad()"
   ],
   "outputs": [],
   "execution_count": 28
  },
  {
   "cell_type": "code",
   "id": "ed815b70",
   "metadata": {
    "ExecuteTime": {
     "end_time": "2024-07-16T10:12:33.355443Z",
     "start_time": "2024-07-16T10:12:33.162178Z"
    }
   },
   "source": [
    "for i in range(1000):\n",
    "    loss = Tensor.l2(model(x), y)\n",
    "    \n",
    "    zero_grad(*model.params(), x)\n",
    "    \n",
    "    loss.backward()\n",
    "    \n",
    "    optimize(model.params(), lr=0.1)"
   ],
   "outputs": [],
   "execution_count": 29
  },
  {
   "cell_type": "code",
   "id": "c0c26e1d",
   "metadata": {
    "ExecuteTime": {
     "end_time": "2024-07-16T10:12:33.360487Z",
     "start_time": "2024-07-16T10:12:33.356684Z"
    }
   },
   "source": [
    "pred = model(x)\n",
    "pred"
   ],
   "outputs": [
    {
     "data": {
      "text/plain": [
       "Tensor([[0.02210465],\n",
       "        [0.98219411],\n",
       "        [0.9799512 ],\n",
       "        [0.0193837 ]])"
      ]
     },
     "execution_count": 30,
     "metadata": {},
     "output_type": "execute_result"
    }
   ],
   "execution_count": 30
  },
  {
   "cell_type": "code",
   "execution_count": null,
   "id": "f334004a",
   "metadata": {},
   "outputs": [],
   "source": []
  }
 ],
 "metadata": {
  "kernelspec": {
   "display_name": "Python 3 (ipykernel)",
   "language": "python",
   "name": "python3"
  },
  "language_info": {
   "codemirror_mode": {
    "name": "ipython",
    "version": 3
   },
   "file_extension": ".py",
   "mimetype": "text/x-python",
   "name": "python",
   "nbconvert_exporter": "python",
   "pygments_lexer": "ipython3",
   "version": "3.11.9"
  }
 },
 "nbformat": 4,
 "nbformat_minor": 5
}
