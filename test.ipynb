{
 "cells": [
  {
   "cell_type": "code",
   "execution_count": 1,
   "id": "6b41de0f-1406-4f4b-a92f-916e039c215d",
   "metadata": {},
   "outputs": [],
   "source": [
    "from microtorch import nn, Tensor\n",
    "from microtorch.losses import CrossEntropyLoss\n",
    "import numpy as np\n",
    "import torch"
   ]
  },
  {
   "cell_type": "code",
   "execution_count": 2,
   "id": "ec67e541-3c92-41c8-b149-e6ef93df96a8",
   "metadata": {},
   "outputs": [
    {
     "data": {
      "text/plain": [
       "Tensor([[ 0.33669037,  0.1288094 ,  0.23446237,  0.23033303],\n",
       "        [-1.1228564 , -0.18632829,  2.2082014 , -0.63799703]],\n",
       "       dtype=float32)"
      ]
     },
     "execution_count": 2,
     "metadata": {},
     "output_type": "execute_result"
    }
   ],
   "source": [
    "torch.manual_seed(42)\n",
    "logits = Tensor(torch.randn(2, 4).numpy())\n",
    "targets = Tensor(torch.tensor([2, 3]).numpy())\n",
    "logits"
   ]
  },
  {
   "cell_type": "code",
   "execution_count": 3,
   "id": "77990102-6fe9-4b50-a948-0da044bfb997",
   "metadata": {},
   "outputs": [],
   "source": [
    "ce = CrossEntropyLoss()"
   ]
  },
  {
   "cell_type": "code",
   "execution_count": 4,
   "id": "9808469c-73f2-4ca0-9f49-4ee4c1b0492c",
   "metadata": {},
   "outputs": [
    {
     "data": {
      "text/plain": [
       "Tensor(2.20153904)"
      ]
     },
     "execution_count": 4,
     "metadata": {},
     "output_type": "execute_result"
    }
   ],
   "source": [
    "loss = ce(logits, targets)\n",
    "loss.backward()\n",
    "loss"
   ]
  },
  {
   "cell_type": "code",
   "execution_count": 5,
   "id": "983a8e32-43f3-439b-b2b7-9199a837d2ce",
   "metadata": {},
   "outputs": [
    {
     "data": {
      "text/plain": [
       "array([[ 0.13834202,  0.11237575, -0.37510154,  0.12438378],\n",
       "       [ 0.01508616,  0.03848643,  0.42192835, -0.47550088]],\n",
       "      dtype=float32)"
      ]
     },
     "execution_count": 5,
     "metadata": {},
     "output_type": "execute_result"
    }
   ],
   "source": [
    "logits.grad"
   ]
  }
 ],
 "metadata": {
  "kernelspec": {
   "display_name": "Python 3 (ipykernel)",
   "language": "python",
   "name": "python3"
  },
  "language_info": {
   "codemirror_mode": {
    "name": "ipython",
    "version": 3
   },
   "file_extension": ".py",
   "mimetype": "text/x-python",
   "name": "python",
   "nbconvert_exporter": "python",
   "pygments_lexer": "ipython3",
   "version": "3.11.9"
  }
 },
 "nbformat": 4,
 "nbformat_minor": 5
}
