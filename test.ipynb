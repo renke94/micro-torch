{
 "cells": [
  {
   "cell_type": "markdown",
   "id": "7c7f8659",
   "metadata": {},
   "source": [
    "# Aufgabe 4"
   ]
  },
  {
   "cell_type": "code",
   "id": "af70ed79",
   "metadata": {
    "ExecuteTime": {
     "end_time": "2024-07-15T18:08:33.931855Z",
     "start_time": "2024-07-15T18:08:33.929051Z"
    }
   },
   "source": [
    "import numpy as np"
   ],
   "outputs": [],
   "execution_count": 1
  },
  {
   "metadata": {
    "ExecuteTime": {
     "end_time": "2024-07-15T18:08:34.147835Z",
     "start_time": "2024-07-15T18:08:34.143505Z"
    }
   },
   "cell_type": "code",
   "source": [
    "from microtorch.tensor import Tensor\n",
    "from microtorch import nn"
   ],
   "id": "4bfb0f15b697987e",
   "outputs": [],
   "execution_count": 2
  },
  {
   "cell_type": "code",
   "id": "d393e93c",
   "metadata": {
    "ExecuteTime": {
     "end_time": "2024-07-15T18:08:34.635015Z",
     "start_time": "2024-07-15T18:08:34.632435Z"
    }
   },
   "source": [
    "x = Tensor([[3.0, -1.0]])\n",
    "\n",
    "y = Tensor.ones((1, 1))"
   ],
   "outputs": [],
   "execution_count": 3
  },
  {
   "cell_type": "code",
   "id": "58ac7a4a",
   "metadata": {
    "ExecuteTime": {
     "end_time": "2024-07-15T18:08:34.934427Z",
     "start_time": "2024-07-15T18:08:34.930791Z"
    }
   },
   "source": [
    "w1 = Tensor([\n",
    "    [0.5, 1.0, 2.0],\n",
    "    [1.0, 3.0, 6.0]\n",
    "])\n",
    "\n",
    "w2 = Tensor([\n",
    "    [ 2.0],\n",
    "    [-1.0],\n",
    "    [ 0.8]\n",
    "])"
   ],
   "outputs": [],
   "execution_count": 4
  },
  {
   "metadata": {
    "ExecuteTime": {
     "end_time": "2024-07-15T18:08:35.356406Z",
     "start_time": "2024-07-15T18:08:35.351193Z"
    }
   },
   "cell_type": "code",
   "source": "w1",
   "id": "c2bdeb6e4fce60da",
   "outputs": [
    {
     "data": {
      "text/plain": [
       "Tensor([[0.5, 1. , 2. ],\n",
       "        [1. , 3. , 6. ]])"
      ]
     },
     "execution_count": 5,
     "metadata": {},
     "output_type": "execute_result"
    }
   ],
   "execution_count": 5
  },
  {
   "cell_type": "code",
   "id": "bc2fa117",
   "metadata": {
    "ExecuteTime": {
     "end_time": "2024-07-15T18:08:35.637325Z",
     "start_time": "2024-07-15T18:08:35.631382Z"
    }
   },
   "source": [
    "f1   = x@w1\n",
    "f2   = f1@w2\n",
    "sig  = f2.sigmoid()\n",
    "loss = sig.l2(y)\n",
    "\n",
    "sig, loss"
   ],
   "outputs": [
    {
     "data": {
      "text/plain": [
       "(Tensor([[0.73105858]]), Tensor(0.07232949))"
      ]
     },
     "execution_count": 6,
     "metadata": {},
     "output_type": "execute_result"
    }
   ],
   "execution_count": 6
  },
  {
   "cell_type": "code",
   "id": "e14ab22a",
   "metadata": {
    "ExecuteTime": {
     "end_time": "2024-07-15T18:08:36.017133Z",
     "start_time": "2024-07-15T18:08:36.014199Z"
    }
   },
   "source": [
    "η = 1.0\n",
    "\n",
    "x.zero_grad()\n",
    "w1.zero_grad(); f1.zero_grad()\n",
    "w2.zero_grad(); f2.zero_grad()\n",
    "sig.zero_grad()\n",
    "loss.zero_grad()\n",
    "loss.backward()\n",
    "\n",
    "w1.data -= η * w1.grad\n",
    "w2.data -= η * w2.grad"
   ],
   "outputs": [],
   "execution_count": 7
  },
  {
   "cell_type": "code",
   "id": "7c93afd4",
   "metadata": {
    "ExecuteTime": {
     "end_time": "2024-07-15T18:08:36.813514Z",
     "start_time": "2024-07-15T18:08:36.808650Z"
    }
   },
   "source": [
    "w1"
   ],
   "outputs": [
    {
     "data": {
      "text/plain": [
       "Tensor([[1.13452511, 0.68273744, 2.25381005],\n",
       "        [0.78849163, 3.10575419, 5.91539665]])"
      ]
     },
     "execution_count": 8,
     "metadata": {},
     "output_type": "execute_result"
    }
   ],
   "execution_count": 8
  },
  {
   "cell_type": "code",
   "id": "fc14b129",
   "metadata": {
    "ExecuteTime": {
     "end_time": "2024-07-15T18:08:37.241046Z",
     "start_time": "2024-07-15T18:08:37.236347Z"
    }
   },
   "source": [
    "w2"
   ],
   "outputs": [
    {
     "data": {
      "text/plain": [
       "Tensor([[ 2.05287709],\n",
       "        [-1.        ],\n",
       "        [ 0.8       ]])"
      ]
     },
     "execution_count": 9,
     "metadata": {},
     "output_type": "execute_result"
    }
   ],
   "execution_count": 9
  },
  {
   "cell_type": "markdown",
   "id": "99d85b97",
   "metadata": {},
   "source": [
    "# XOR"
   ]
  },
  {
   "cell_type": "code",
   "id": "fd9ea6e5",
   "metadata": {
    "ExecuteTime": {
     "end_time": "2024-07-15T18:08:38.467575Z",
     "start_time": "2024-07-15T18:08:38.463361Z"
    }
   },
   "source": [
    "x = Tensor([\n",
    "    [0.0, 0.0],\n",
    "    [1.0, 0.0],\n",
    "    [0.0, 1.0],\n",
    "    [1.0, 1.0]\n",
    "])\n",
    "\n",
    "y = np.array([\n",
    "    [0.0],\n",
    "    [1.0],\n",
    "    [1.0],\n",
    "    [0.0],\n",
    "])"
   ],
   "outputs": [],
   "execution_count": 10
  },
  {
   "cell_type": "code",
   "id": "562ee2a9",
   "metadata": {
    "ExecuteTime": {
     "end_time": "2024-07-15T18:08:39.087491Z",
     "start_time": "2024-07-15T18:08:39.083447Z"
    }
   },
   "source": [
    "model = nn.Sequential(\n",
    "    nn.Linear(2, 16),\n",
    "    nn.LeakyReLU(0.01),\n",
    "    nn.Linear(16, 16),\n",
    "    nn.LeakyReLU(0.01),\n",
    "    nn.Linear(16, 1),\n",
    "    nn.Sigmoid()\n",
    ")"
   ],
   "outputs": [],
   "execution_count": 11
  },
  {
   "cell_type": "code",
   "id": "cce934df",
   "metadata": {
    "ExecuteTime": {
     "end_time": "2024-07-15T18:08:39.603452Z",
     "start_time": "2024-07-15T18:08:39.600949Z"
    }
   },
   "source": [
    "def optimize(params, lr=0.001):\n",
    "    for p in params:\n",
    "        p.data -= lr * p.grad\n",
    "        \n",
    "def zero_grad(*params):\n",
    "    for p in params:\n",
    "        p.zero_grad()"
   ],
   "outputs": [],
   "execution_count": 12
  },
  {
   "cell_type": "code",
   "id": "ed815b70",
   "metadata": {
    "ExecuteTime": {
     "end_time": "2024-07-15T18:08:40.517151Z",
     "start_time": "2024-07-15T18:08:40.379037Z"
    }
   },
   "source": [
    "for i in range(1000):\n",
    "    loss = Tensor.l2(model(x), y)\n",
    "    \n",
    "    zero_grad(*model.params(), x)\n",
    "    \n",
    "    loss.backward()\n",
    "    \n",
    "    optimize(model.params(), lr=0.1)"
   ],
   "outputs": [],
   "execution_count": 13
  },
  {
   "cell_type": "code",
   "id": "c0c26e1d",
   "metadata": {
    "ExecuteTime": {
     "end_time": "2024-07-15T18:08:41.895044Z",
     "start_time": "2024-07-15T18:08:41.891381Z"
    }
   },
   "source": [
    "pred = model(x)"
   ],
   "outputs": [],
   "execution_count": 14
  },
  {
   "cell_type": "code",
   "execution_count": 32,
   "id": "e17f564f",
   "metadata": {},
   "outputs": [
    {
     "data": {
      "text/plain": [
       "Value([[0.00942888],\n",
       "       [0.99233796],\n",
       "       [0.99267392],\n",
       "       [0.007169  ]])"
      ]
     },
     "execution_count": 32,
     "metadata": {},
     "output_type": "execute_result"
    }
   ],
   "source": [
    "pred"
   ]
  },
  {
   "cell_type": "code",
   "execution_count": null,
   "id": "f334004a",
   "metadata": {},
   "outputs": [],
   "source": []
  }
 ],
 "metadata": {
  "kernelspec": {
   "display_name": "Python 3 (ipykernel)",
   "language": "python",
   "name": "python3"
  },
  "language_info": {
   "codemirror_mode": {
    "name": "ipython",
    "version": 3
   },
   "file_extension": ".py",
   "mimetype": "text/x-python",
   "name": "python",
   "nbconvert_exporter": "python",
   "pygments_lexer": "ipython3",
   "version": "3.11.9"
  }
 },
 "nbformat": 4,
 "nbformat_minor": 5
}
