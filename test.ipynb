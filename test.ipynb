{
 "cells": [
  {
   "cell_type": "markdown",
   "id": "7c7f8659",
   "metadata": {},
   "source": [
    "# Aufgabe 4"
   ]
  },
  {
   "cell_type": "code",
   "id": "af70ed79",
   "metadata": {
    "ExecuteTime": {
     "end_time": "2024-07-15T18:15:29.642257Z",
     "start_time": "2024-07-15T18:15:29.638876Z"
    }
   },
   "source": [
    "import numpy as np"
   ],
   "outputs": [],
   "execution_count": 1
  },
  {
   "metadata": {
    "ExecuteTime": {
     "end_time": "2024-07-15T18:15:29.650425Z",
     "start_time": "2024-07-15T18:15:29.643885Z"
    }
   },
   "cell_type": "code",
   "source": [
    "from microtorch import Tensor\n",
    "from microtorch import nn"
   ],
   "id": "4bfb0f15b697987e",
   "outputs": [],
   "execution_count": 2
  },
  {
   "cell_type": "code",
   "id": "d393e93c",
   "metadata": {
    "ExecuteTime": {
     "end_time": "2024-07-15T18:15:32.585370Z",
     "start_time": "2024-07-15T18:15:32.578589Z"
    }
   },
   "source": [
    "x = Tensor([[3.0, -1.0]])\n",
    "y = Tensor.ones((1, 1))"
   ],
   "outputs": [],
   "execution_count": 3
  },
  {
   "cell_type": "code",
   "id": "58ac7a4a",
   "metadata": {
    "ExecuteTime": {
     "end_time": "2024-07-15T18:08:34.934427Z",
     "start_time": "2024-07-15T18:08:34.930791Z"
    }
   },
   "source": [
    "w1 = Tensor([\n",
    "    [0.5, 1.0, 2.0],\n",
    "    [1.0, 3.0, 6.0]\n",
    "])\n",
    "\n",
    "w2 = Tensor([\n",
    "    [ 2.0],\n",
    "    [-1.0],\n",
    "    [ 0.8]\n",
    "])"
   ],
   "outputs": [],
   "execution_count": 4
  },
  {
   "metadata": {
    "ExecuteTime": {
     "end_time": "2024-07-15T18:21:41.377684Z",
     "start_time": "2024-07-15T18:21:41.371214Z"
    }
   },
   "cell_type": "code",
   "source": [
    "w2 = Tensor([[2.0, -1.0, 0.8]]).T\n",
    "w2"
   ],
   "id": "bf244c7e443836c2",
   "outputs": [
    {
     "data": {
      "text/plain": [
       "Tensor([[ 2. ],\n",
       "        [-1. ],\n",
       "        [ 0.8]])"
      ]
     },
     "execution_count": 11,
     "metadata": {},
     "output_type": "execute_result"
    }
   ],
   "execution_count": 11
  },
  {
   "metadata": {
    "ExecuteTime": {
     "end_time": "2024-07-15T18:08:35.356406Z",
     "start_time": "2024-07-15T18:08:35.351193Z"
    }
   },
   "cell_type": "code",
   "source": "w1",
   "id": "c2bdeb6e4fce60da",
   "outputs": [
    {
     "data": {
      "text/plain": [
       "Tensor([[0.5, 1. , 2. ],\n",
       "        [1. , 3. , 6. ]])"
      ]
     },
     "execution_count": 5,
     "metadata": {},
     "output_type": "execute_result"
    }
   ],
   "execution_count": 5
  },
  {
   "cell_type": "code",
   "id": "bc2fa117",
   "metadata": {
    "ExecuteTime": {
     "end_time": "2024-07-15T18:08:35.637325Z",
     "start_time": "2024-07-15T18:08:35.631382Z"
    }
   },
   "source": [
    "f1   = x@w1\n",
    "f2   = f1@w2\n",
    "sig  = f2.sigmoid()\n",
    "loss = sig.l2(y)\n",
    "\n",
    "sig, loss"
   ],
   "outputs": [
    {
     "data": {
      "text/plain": [
       "(Tensor([[0.73105858]]), Tensor(0.07232949))"
      ]
     },
     "execution_count": 6,
     "metadata": {},
     "output_type": "execute_result"
    }
   ],
   "execution_count": 6
  },
  {
   "cell_type": "code",
   "id": "e14ab22a",
   "metadata": {
    "ExecuteTime": {
     "end_time": "2024-07-15T18:08:36.017133Z",
     "start_time": "2024-07-15T18:08:36.014199Z"
    }
   },
   "source": [
    "η = 1.0\n",
    "\n",
    "x.zero_grad()\n",
    "w1.zero_grad(); f1.zero_grad()\n",
    "w2.zero_grad(); f2.zero_grad()\n",
    "sig.zero_grad()\n",
    "loss.zero_grad()\n",
    "loss.backward()\n",
    "\n",
    "w1.data -= η * w1.grad\n",
    "w2.data -= η * w2.grad"
   ],
   "outputs": [],
   "execution_count": 7
  },
  {
   "cell_type": "code",
   "id": "7c93afd4",
   "metadata": {
    "ExecuteTime": {
     "end_time": "2024-07-15T18:08:36.813514Z",
     "start_time": "2024-07-15T18:08:36.808650Z"
    }
   },
   "source": [
    "w1"
   ],
   "outputs": [
    {
     "data": {
      "text/plain": [
       "Tensor([[1.13452511, 0.68273744, 2.25381005],\n",
       "        [0.78849163, 3.10575419, 5.91539665]])"
      ]
     },
     "execution_count": 8,
     "metadata": {},
     "output_type": "execute_result"
    }
   ],
   "execution_count": 8
  },
  {
   "cell_type": "code",
   "id": "fc14b129",
   "metadata": {
    "ExecuteTime": {
     "end_time": "2024-07-15T18:08:37.241046Z",
     "start_time": "2024-07-15T18:08:37.236347Z"
    }
   },
   "source": [
    "w2"
   ],
   "outputs": [
    {
     "data": {
      "text/plain": [
       "Tensor([[ 2.05287709],\n",
       "        [-1.        ],\n",
       "        [ 0.8       ]])"
      ]
     },
     "execution_count": 9,
     "metadata": {},
     "output_type": "execute_result"
    }
   ],
   "execution_count": 9
  },
  {
   "cell_type": "markdown",
   "id": "99d85b97",
   "metadata": {},
   "source": [
    "# XOR"
   ]
  },
  {
   "cell_type": "code",
   "id": "fd9ea6e5",
   "metadata": {
    "ExecuteTime": {
     "end_time": "2024-07-15T18:17:38.011871Z",
     "start_time": "2024-07-15T18:17:38.003639Z"
    }
   },
   "source": [
    "x = Tensor([\n",
    "    [0.0, 0.0],\n",
    "    [1.0, 0.0],\n",
    "    [0.0, 1.0],\n",
    "    [1.0, 1.0]\n",
    "])\n",
    "\n",
    "y = Tensor([\n",
    "    [0.0],\n",
    "    [1.0],\n",
    "    [1.0],\n",
    "    [0.0],\n",
    "])"
   ],
   "outputs": [],
   "execution_count": 4
  },
  {
   "cell_type": "code",
   "id": "562ee2a9",
   "metadata": {
    "ExecuteTime": {
     "end_time": "2024-07-15T18:17:38.462186Z",
     "start_time": "2024-07-15T18:17:38.452781Z"
    }
   },
   "source": [
    "model = nn.Sequential(\n",
    "    nn.Linear(2, 16),\n",
    "    nn.LeakyReLU(0.01),\n",
    "    nn.Linear(16, 16),\n",
    "    nn.LeakyReLU(0.01),\n",
    "    nn.Linear(16, 1),\n",
    "    nn.Sigmoid()\n",
    ")"
   ],
   "outputs": [],
   "execution_count": 5
  },
  {
   "cell_type": "code",
   "id": "cce934df",
   "metadata": {
    "ExecuteTime": {
     "end_time": "2024-07-15T18:17:39.036353Z",
     "start_time": "2024-07-15T18:17:39.033049Z"
    }
   },
   "source": [
    "def optimize(params, lr=0.001):\n",
    "    for p in params:\n",
    "        p.data -= lr * p.grad\n",
    "        \n",
    "def zero_grad(*params):\n",
    "    for p in params:\n",
    "        p.zero_grad()"
   ],
   "outputs": [],
   "execution_count": 6
  },
  {
   "cell_type": "code",
   "id": "ed815b70",
   "metadata": {
    "ExecuteTime": {
     "end_time": "2024-07-15T18:17:39.674936Z",
     "start_time": "2024-07-15T18:17:39.535528Z"
    }
   },
   "source": [
    "for i in range(1000):\n",
    "    loss = Tensor.l2(model(x), y)\n",
    "    \n",
    "    zero_grad(*model.params(), x)\n",
    "    \n",
    "    loss.backward()\n",
    "    \n",
    "    optimize(model.params(), lr=0.1)"
   ],
   "outputs": [],
   "execution_count": 7
  },
  {
   "cell_type": "code",
   "id": "c0c26e1d",
   "metadata": {
    "ExecuteTime": {
     "end_time": "2024-07-15T18:17:40.150650Z",
     "start_time": "2024-07-15T18:17:40.147595Z"
    }
   },
   "source": [
    "pred = model(x)"
   ],
   "outputs": [],
   "execution_count": 8
  },
  {
   "cell_type": "code",
   "id": "e17f564f",
   "metadata": {
    "ExecuteTime": {
     "end_time": "2024-07-15T18:17:40.622937Z",
     "start_time": "2024-07-15T18:17:40.618378Z"
    }
   },
   "source": [
    "pred"
   ],
   "outputs": [
    {
     "data": {
      "text/plain": [
       "Tensor([[0.01606589],\n",
       "        [0.99038489],\n",
       "        [0.99465307],\n",
       "        [0.00223828]])"
      ]
     },
     "execution_count": 9,
     "metadata": {},
     "output_type": "execute_result"
    }
   ],
   "execution_count": 9
  },
  {
   "cell_type": "code",
   "execution_count": null,
   "id": "f334004a",
   "metadata": {},
   "outputs": [],
   "source": []
  }
 ],
 "metadata": {
  "kernelspec": {
   "display_name": "Python 3 (ipykernel)",
   "language": "python",
   "name": "python3"
  },
  "language_info": {
   "codemirror_mode": {
    "name": "ipython",
    "version": 3
   },
   "file_extension": ".py",
   "mimetype": "text/x-python",
   "name": "python",
   "nbconvert_exporter": "python",
   "pygments_lexer": "ipython3",
   "version": "3.11.9"
  }
 },
 "nbformat": 4,
 "nbformat_minor": 5
}
